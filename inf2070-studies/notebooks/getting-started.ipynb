{
 "cells": [
  {
   "cell_type": "markdown",
   "id": "482593d7",
   "metadata": {},
   "source": [
    "Importação de Dependências"
   ]
  },
  {
   "cell_type": "code",
   "execution_count": 1,
   "id": "81a7d77b",
   "metadata": {},
   "outputs": [
    {
     "name": "stderr",
     "output_type": "stream",
     "text": [
      "/home/yang/projects/inf2070-gym/venv/lib/python3.12/site-packages/tqdm/auto.py:21: TqdmWarning: IProgress not found. Please update jupyter and ipywidgets. See https://ipywidgets.readthedocs.io/en/stable/user_install.html\n",
      "  from .autonotebook import tqdm as notebook_tqdm\n"
     ]
    }
   ],
   "source": [
    "from transformers import AutoTokenizer\n",
    "import gem\n",
    "from gem.tools.python_code_tool import PythonCodeTool\n",
    "from gem.tools.tool_env_wrapper import ToolEnvWrapper\n",
    "from gem.wrappers.wrapper_factory import WRAPPER_FACTORY\n"
   ]
  },
  {
   "cell_type": "code",
   "execution_count": null,
   "id": "db92049e",
   "metadata": {},
   "outputs": [],
   "source": [
    "\n",
    "env = gem.make(\"math:GSM8K\")\n",
    "tool = PythonCodeTool()\n",
    "wrapped_env = ToolEnvWrapper(env, tools=[tool])\n",
    "\n",
    "models = [\n",
    "  \"microsoft/Phi-4-mini-instruct\",\n",
    "  \"Qwen/Qwen3-0.6B\",\n",
    "  \"deepseek-ai/DeepSeek-R1\"\n",
    "]\n",
    "\n",
    "for model in models:  \n",
    "  print(f\"=== Using model: {model} ===\")\n",
    "  wrapped_env = WRAPPER_FACTORY[\"concat_chat\"](\n",
    "    wrapped_env, tokenizer=AutoTokenizer.from_pretrained(model)\n",
    "  )\n",
    "  obs, info = wrapped_env.reset()\n",
    "\n",
    "  # we ignore the obs and use a dummy action\n",
    "  dummy_action = \"<think>Let me compare 9.9 and 9.11 using python.</think><python>print('9.9 > 9.11?', 9.9 > 9.11)</python>\"\n",
    "  obs, reward, terminated, truncated, info = wrapped_env.step(dummy_action)\n",
    "  print(obs)\n",
    "  # continue to sample the next response given the tool results ...\n",
    "\n",
    "  wrapped_env.close()\n",
    "  print(f\"=== Finished using model: {model} ===\")"
   ]
  },
  {
   "cell_type": "code",
   "execution_count": null,
   "id": "efe73b03",
   "metadata": {},
   "outputs": [],
   "source": []
  }
 ],
 "metadata": {
  "kernelspec": {
   "display_name": "venv (3.12.12)",
   "language": "python",
   "name": "python3"
  },
  "language_info": {
   "codemirror_mode": {
    "name": "ipython",
    "version": 3
   },
   "file_extension": ".py",
   "mimetype": "text/x-python",
   "name": "python",
   "nbconvert_exporter": "python",
   "pygments_lexer": "ipython3",
   "version": "3.12.12"
  }
 },
 "nbformat": 4,
 "nbformat_minor": 5
}
