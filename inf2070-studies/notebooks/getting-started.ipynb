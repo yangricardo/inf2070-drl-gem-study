{
 "cells": [
  {
   "cell_type": "markdown",
   "id": "482593d7",
   "metadata": {},
   "source": [
    "Importação de Dependências"
   ]
  },
  {
   "cell_type": "code",
   "execution_count": null,
   "id": "81a7d77b",
   "metadata": {},
   "outputs": [],
   "source": [
    "from transformers import AutoTokenizer\n",
    "import gem\n",
    "from gem.tools.python_code_tool import PythonCodeTool\n",
    "from gem.tools.tool_env_wrapper import ToolEnvWrapper\n",
    "from gem.wrappers.wrapper_factory import WRAPPER_FACTORY"
   ]
  },
  {
   "cell_type": "markdown",
   "id": "d20f7818",
   "metadata": {},
   "source": [
    "Na primeira execução, o modelo será baixado, o que pode levar algum tempo.\n",
    "\n",
    "Isto ocorre via linha de comando:\n",
    "\n",
    "```python\n",
    "AutoTokenizer.from_pretrained(model)\n",
    "```\n",
    "\n",
    "Durante sua execução, o modelo baixado do Hugging Face será armazenado em cache no diretório `~/.cache/huggingface/transformers`.\n"
   ]
  },
  {
   "cell_type": "code",
   "execution_count": 3,
   "id": "db92049e",
   "metadata": {},
   "outputs": [
    {
     "name": "stdout",
     "output_type": "stream",
     "text": [
      "=== Using model: microsoft/Phi-4-mini-instruct ===\n",
      "<|user|>Three siblings are born 5 years apart, each. If the eldest child is 20 years old now, what's the total of the ages of the three siblings 10 years from now?\n",
      "Solve the above problem step by step. You now have the ability to selectively write executable Python code to enhance your reasoning process. The Python code will be executed by an external sandbox, and the output (after \"Code execution result: \") is returned to aid your reasoning and help you arrive at the final answer. The Python code should be complete scripts, including necessary imports, wrapped within <python>...</python> tags or using ```python...``` code block. Return your final answer within \\boxed{}.<|end|><|assistant|><think>Let me compare 9.9 and 9.11 using python.</think><python>print('9.9 > 9.11?', 9.9 > 9.11)</python><|end|><|tool|>Code execution result: 9.9 > 9.11? True\n",
      "\n",
      "<|end|><|assistant|>\n",
      "=== Finished using model: microsoft/Phi-4-mini-instruct ===\n",
      "=== Using model: Qwen/Qwen3-0.6B ===\n",
      "<|im_start|>user\n",
      "<|user|>Lily got a new puppy for her birthday.  She was responsible for feeding the puppy 1/4 cup of food three times a day for two weeks starting tomorrow.  For the following 2 weeks, Lily will feed him 1/2 cup of food twice a day.  She has fed him 1/2 cup of food today.  Including today, how much food will the puppy eat over the next 4 weeks?\n",
      "Solve the above problem step by step. You now have the ability to selectively write executable Python code to enhance your reasoning process. The Python code will be executed by an external sandbox, and the output (after \"Code execution result: \") is returned to aid your reasoning and help you arrive at the final answer. The Python code should be complete scripts, including necessary imports, wrapped within <python>...</python> tags or using ```python...``` code block. Return your final answer within \\boxed{}.<|end|><|assistant|><|im_end|>\n",
      "<|im_start|>assistant\n",
      "<think>\n",
      "Let me compare 9.9 and 9.11 using python.\n",
      "</think>\n",
      "\n",
      "<python>print('9.9 > 9.11?', 9.9 > 9.11)</python><|im_end|>\n",
      "<|im_start|>user\n",
      "<tool_response>\n",
      "<|user|>Lily got a new puppy for her birthday.  She was responsible for feeding the puppy 1/4 cup of food three times a day for two weeks starting tomorrow.  For the following 2 weeks, Lily will feed him 1/2 cup of food twice a day.  She has fed him 1/2 cup of food today.  Including today, how much food will the puppy eat over the next 4 weeks?\n",
      "Solve the above problem step by step. You now have the ability to selectively write executable Python code to enhance your reasoning process. The Python code will be executed by an external sandbox, and the output (after \"Code execution result: \") is returned to aid your reasoning and help you arrive at the final answer. The Python code should be complete scripts, including necessary imports, wrapped within <python>...</python> tags or using ```python...``` code block. Return your final answer within \\boxed{}.<|end|><|assistant|><think>Let me compare 9.9 and 9.11 using python.</think><python>print('9.9 > 9.11?', 9.9 > 9.11)</python><|end|><|tool|>Code execution result: 9.9 > 9.11? True\n",
      "\n",
      "<|end|><|assistant|>\n",
      "</tool_response><|im_end|>\n",
      "<|im_start|>assistant\n",
      "\n",
      "=== Finished using model: Qwen/Qwen3-0.6B ===\n",
      "=== Using model: deepseek-ai/DeepSeek-R1 ===\n",
      "<｜begin▁of▁sentence｜><｜User｜><|im_start|>user\n",
      "<|user|>Jen got 3 fish.  They each need $1 worth of food a day.  How much does she spend on food in the month of May?\n",
      "Solve the above problem step by step. You now have the ability to selectively write executable Python code to enhance your reasoning process. The Python code will be executed by an external sandbox, and the output (after \"Code execution result: \") is returned to aid your reasoning and help you arrive at the final answer. The Python code should be complete scripts, including necessary imports, wrapped within <python>...</python> tags or using ```python...``` code block. Return your final answer within \\boxed{}.<|end|><|assistant|><|im_end|>\n",
      "<|im_start|>assistant\n",
      "<｜Assistant｜><python>print('9.9 > 9.11?', 9.9 > 9.11)</python><｜end▁of▁sentence｜><｜tool▁outputs▁begin｜><｜tool▁output▁begin｜><|im_start|>user\n",
      "<|user|>Jen got 3 fish.  They each need $1 worth of food a day.  How much does she spend on food in the month of May?\n",
      "Solve the above problem step by step. You now have the ability to selectively write executable Python code to enhance your reasoning process. The Python code will be executed by an external sandbox, and the output (after \"Code execution result: \") is returned to aid your reasoning and help you arrive at the final answer. The Python code should be complete scripts, including necessary imports, wrapped within <python>...</python> tags or using ```python...``` code block. Return your final answer within \\boxed{}.<|end|><|assistant|><|im_end|>\n",
      "<|im_start|>assistant\n",
      "<think>\n",
      "Let me compare 9.9 and 9.11 using python.\n",
      "</think>\n",
      "\n",
      "<python>print('9.9 > 9.11?', 9.9 > 9.11)</python><|im_end|>\n",
      "<|im_start|>user\n",
      "<tool_response>\n",
      "<|user|>Jen got 3 fish.  They each need $1 worth of food a day.  How much does she spend on food in the month of May?\n",
      "Solve the above problem step by step. You now have the ability to selectively write executable Python code to enhance your reasoning process. The Python code will be executed by an external sandbox, and the output (after \"Code execution result: \") is returned to aid your reasoning and help you arrive at the final answer. The Python code should be complete scripts, including necessary imports, wrapped within <python>...</python> tags or using ```python...``` code block. Return your final answer within \\boxed{}.<|end|><|assistant|><think>Let me compare 9.9 and 9.11 using python.</think><python>print('9.9 > 9.11?', 9.9 > 9.11)</python><|end|><|tool|>Code execution result: 9.9 > 9.11? True\n",
      "\n",
      "<|end|><|assistant|>\n",
      "</tool_response><|im_end|>\n",
      "<|im_start|>assistant\n",
      "<｜tool▁output▁end｜><｜tool▁outputs▁end｜>\n",
      "=== Finished using model: deepseek-ai/DeepSeek-R1 ===\n"
     ]
    }
   ],
   "source": [
    "env = gem.make(\"math:GSM8K\")\n",
    "tool = PythonCodeTool()\n",
    "wrapped_env = ToolEnvWrapper(env, tools=[tool])\n",
    "\n",
    "models = [\n",
    "  \"microsoft/Phi-4-mini-instruct\",\n",
    "  \"Qwen/Qwen3-0.6B\",\n",
    "  \"deepseek-ai/DeepSeek-R1\"\n",
    "]\n",
    "\n",
    "for model in models:  \n",
    "  print(f\"=== Using model: {model} ===\")\n",
    "  wrapped_env = WRAPPER_FACTORY[\"concat_chat\"](\n",
    "    wrapped_env, tokenizer=AutoTokenizer.from_pretrained(model)\n",
    "  )\n",
    "  obs, info = wrapped_env.reset()\n",
    "\n",
    "  # we ignore the obs and use a dummy action\n",
    "  dummy_action = \"<think>Let me compare 9.9 and 9.11 using python.</think><python>print('9.9 > 9.11?', 9.9 > 9.11)</python>\"\n",
    "  obs, reward, terminated, truncated, info = wrapped_env.step(dummy_action)\n",
    "  print(obs)\n",
    "  # continue to sample the next response given the tool results ...\n",
    "\n",
    "  wrapped_env.close()\n",
    "  print(f\"=== Finished using model: {model} ===\")"
   ]
  },
  {
   "cell_type": "markdown",
   "id": "a00fa3f7",
   "metadata": {},
   "source": [
    "O exemplo acima demonstra como utilizar diferentes modelos de linguagem para interagir com um ambiente de resolução de problemas matemáticos, utilizando ferramentas de código Python para auxiliar na resolução.\n",
    "\n",
    "Ao executar o código, cada modelo será carregado, e uma ação dummy será enviada ao ambiente, ilustrando a integração entre o modelo de linguagem e a ferramenta de código Python."
   ]
  }
 ],
 "metadata": {
  "kernelspec": {
   "display_name": "venv (3.12.12)",
   "language": "python",
   "name": "python3"
  },
  "language_info": {
   "codemirror_mode": {
    "name": "ipython",
    "version": 3
   },
   "file_extension": ".py",
   "mimetype": "text/x-python",
   "name": "python",
   "nbconvert_exporter": "python",
   "pygments_lexer": "ipython3",
   "version": "3.12.12"
  }
 },
 "nbformat": 4,
 "nbformat_minor": 5
}
